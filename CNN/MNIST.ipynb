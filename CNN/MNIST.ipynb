{
  "cells": [
    {
      "cell_type": "code",
      "execution_count": null,
      "metadata": {
        "colab": {
          "base_uri": "https://localhost:8080/"
        },
        "id": "2KaB2S6FDtVd",
        "outputId": "d4d85f98-de06-44f3-94cf-1b05448bc527"
      },
      "outputs": [
        {
          "output_type": "stream",
          "name": "stdout",
          "text": [
            "2.9.2\n",
            "x_train.shape:  (60000, 28, 28)\n",
            "y_train.shape:  (60000,)\n",
            "(60000, 28, 28, 1)\n",
            "number of classes: 10\n",
            "y_train :  tf.Tensor([5 0 4 ... 5 6 8], shape=(60000,), dtype=int32)\n"
          ]
        }
      ],
      "source": [
        "#!pip uninstall tensorflow\n",
        "#!pip install tensorflow\n",
        "\n",
        "import datetime\n",
        "import tensorflow as tf\n",
        "import numpy as np\n",
        "import matplotlib.pyplot as plt\n",
        "from tensorflow.keras.layers import Input, Conv2D, Dense, Flatten, Dropout, MaxPooling2D\n",
        "from tensorflow.keras.models import Model\n",
        "\n",
        "print(tf.__version__)\n",
        "\n",
        "# Load the TensorBoard notebook extension\n",
        "%load_ext tensorboard\n",
        "\n",
        "# Clear any logs from previous runs\n",
        "%rm -rf ./MNIST/logs/\n",
        "log_dir = \"MNIST/logs/fit/\" + datetime.datetime.now().strftime(\"%Y%m%d-%H%M%S\")\n",
        "\n",
        "\n",
        "# Load in the data\n",
        "mnist = tf.keras.datasets.mnist\n",
        "\n",
        "def normalize_set(dataset):\n",
        "  arr=[]\n",
        "  for image in dataset:\n",
        "      arr.append((image - np.min(image)) / (np.max(image) - np.min(image)))\n",
        "  return np.array(arr)\n",
        "\n",
        "(x_train, y_train), (x_test, y_test) = mnist.load_data()\n",
        "x_train = normalize_set(x_train)\n",
        "x_test = normalize_set(x_test)\n",
        "\n",
        "print(\"x_train.shape: \", x_train.shape)\n",
        "#plt.imshow(x_train[0], cmap='gray')\n",
        "print(\"y_train.shape: \", y_train.shape)\n",
        "\n",
        "# the data is only 2D!\n",
        "# convolution expects height * width * color\n",
        "x_train = np.expand_dims(x_train, -1)\n",
        "x_test = np.expand_dims(x_test, -1)\n",
        "print(x_train.shape)\n",
        "\n",
        "# number of classes\n",
        "# the function set returns a vector with only the unique values\n",
        "K = len(set(y_train))\n",
        "print(\"number of classes:\", K)\n",
        "\n",
        "#The target classes are a signle numerical values of the class label.\n",
        "#We need to make them float tensor in order to manipulate them.\n",
        "y_train = tf.convert_to_tensor(y_train, dtype=tf.int32)\n",
        "y_test = tf.convert_to_tensor(y_test, dtype=tf.int32)\n",
        "print(\"y_train : \", y_train)"
      ]
    },
    {
      "cell_type": "code",
      "source": [
        "class LossHistory(tf.keras.callbacks.Callback):\n",
        "    def on_train_begin(self, logs={}):\n",
        "        self.history = {'loss':[],'val_loss':[], 'accuracy':[],'val_accuracy':[], 'loss_avg':[],'val_loss_avg':[], 'accuracy_avg':[],'val_accuracy_avg':[]}\n",
        "\n",
        "    def on_batch_end(self, batch, logs={}):\n",
        "        self.history['loss'].append(logs.get('loss'))\n",
        "        self.history['accuracy'].append(logs.get('accuracy'))\n",
        "        #self.history['val_loss'].append(logs.get('val_loss'))        \n",
        "        #self.history['val_accuracy'].append(logs.get('val_accuracy'))\n",
        "        '''On batch end is returned None'''\n",
        "\n",
        "    def on_epoch_end(self, epoch, logs={}):\n",
        "        self.history['loss_avg'].append(logs.get('loss'))\n",
        "        self.history['val_loss_avg'].append(logs.get('val_loss'))\n",
        "        self.history['accuracy_avg'].append(logs.get('accuracy'))\n",
        "        self.history['val_accuracy_avg'].append(logs.get('val_accuracy'))\n",
        "\n",
        "    def on_test_begin(self, logs={}):\n",
        "        self.test_hist = {'loss':[], 'accuracy':[]}\n",
        "    def on_test_batch_end(self, batch, logs={}):\n",
        "        self.test_hist['loss'].append(logs.get('loss'))\n",
        "        self.test_hist['accuracy'].append(logs.get('accuracy'))"
      ],
      "metadata": {
        "id": "zh1quf9d2gn6"
      },
      "execution_count": null,
      "outputs": []
    },
    {
      "cell_type": "code",
      "execution_count": null,
      "metadata": {
        "colab": {
          "base_uri": "https://localhost:8080/"
        },
        "id": "ZhJrCLUMEEzt",
        "outputId": "9d6f4873-9f1b-400f-ef75-931e071deedb"
      },
      "outputs": [
        {
          "output_type": "stream",
          "name": "stdout",
          "text": [
            "Model: \"sequential_3\"\n",
            "_________________________________________________________________\n",
            " Layer (type)                Output Shape              Param #   \n",
            "=================================================================\n",
            " conv2d_6 (Conv2D)           (None, 28, 28, 8)         80        \n",
            "                                                                 \n",
            " max_pooling2d_6 (MaxPooling  (None, 14, 14, 8)        0         \n",
            " 2D)                                                             \n",
            "                                                                 \n",
            " conv2d_7 (Conv2D)           (None, 14, 14, 2)         146       \n",
            "                                                                 \n",
            " max_pooling2d_7 (MaxPooling  (None, 7, 7, 2)          0         \n",
            " 2D)                                                             \n",
            "                                                                 \n",
            " flatten_3 (Flatten)         (None, 98)                0         \n",
            "                                                                 \n",
            " dense_6 (Dense)             (None, 98)                9702      \n",
            "                                                                 \n",
            " dense_7 (Dense)             (None, 10)                990       \n",
            "                                                                 \n",
            "=================================================================\n",
            "Total params: 10,918\n",
            "Trainable params: 10,918\n",
            "Non-trainable params: 0\n",
            "_________________________________________________________________\n",
            "    1/49999 [..............................] - ETA: 6:27:53 - loss: 0.3920 - accuracy: 0.0000e+00"
          ]
        },
        {
          "output_type": "stream",
          "name": "stderr",
          "text": [
            "WARNING:tensorflow:Callback method `on_train_batch_end` is slow compared to the batch time (batch time: 0.0020s vs `on_train_batch_end` time: 0.0027s). Check your callbacks.\n"
          ]
        },
        {
          "output_type": "stream",
          "name": "stdout",
          "text": [
            "49999/49999 [==============================] - 137s 3ms/step - loss: 0.0171 - accuracy: 0.8915 - val_loss: 0.0078 - val_accuracy: 0.9568\n"
          ]
        }
      ],
      "source": [
        "\n",
        "#A custom loss function can be created by defining a function that takes the true values and predicted values as required parameters. \n",
        "#The function should return an array of losses. The function can then be passed at the compile stage. \n",
        "def MSE_onehot(label, pred):\n",
        "    y=tf.one_hot(label, 10, axis=1) \n",
        "    error = tf.subtract(y[:,:,0],pred) #Evaluation error\n",
        "    #print(\"label shape: \", label.shape )  \n",
        "    #print(\"one hot label shape: \", y.shape ) \n",
        "    #print(\"Error shape: \", error.shape)\n",
        "    error=tf.pow(error,2)\n",
        "    error=tf.divide(error,K)\n",
        "    loss = tf.math.reduce_sum(error,axis=1)\n",
        "    return loss \n",
        "\n",
        "\n",
        "model = tf.keras.models.Sequential()\n",
        "\n",
        "model.add(Input(shape=x_train[0].shape))\n",
        "model.add(Conv2D(8, (3, 3), strides=1, activation='relu', padding=\"same\" ))\n",
        "model.add(MaxPooling2D(pool_size=(2, 2)))\n",
        "model.add(Conv2D(2, (3, 3), strides=1, activation='relu', padding=\"same\" ))\n",
        "model.add(MaxPooling2D(pool_size=(2, 2)))\n",
        "model.add(Flatten())\n",
        "model.add(Dense(98, activation='sigmoid'))\n",
        "model.add(Dense(K, activation='sigmoid'))\n",
        "\n",
        "model.summary()\n",
        "\n",
        "# Compile and fit\n",
        "# Note: make sure you are using the GPU for this!\n",
        "tensorboard_callback = tf.keras.callbacks.TensorBoard(log_dir=log_dir, histogram_freq=1)\n",
        "\n",
        "opt   = tf.keras.optimizers.experimental.SGD( learning_rate=0.5 )\n",
        "history = LossHistory()\n",
        "\n",
        "model.compile(optimizer=opt, loss=MSE_onehot, metrics=['accuracy'])\n",
        "\n",
        "r = model.fit(x_train, y_train, validation_split = 0.16667, epochs=1, batch_size=1,  callbacks=[history, tensorboard_callback])"
      ]
    },
    {
      "cell_type": "code",
      "execution_count": null,
      "metadata": {
        "colab": {
          "base_uri": "https://localhost:8080/"
        },
        "id": "NJSAbOUtvEmi",
        "outputId": "abcc786c-28d4-45bc-d1f3-c3286128d23a"
      },
      "outputs": [
        {
          "output_type": "stream",
          "name": "stdout",
          "text": [
            "10000/10000 [==============================] - 17s 2ms/step - loss: 0.0077 - accuracy: 0.9551\n"
          ]
        },
        {
          "output_type": "execute_result",
          "data": {
            "text/plain": [
              "[0.007747701834887266, 0.9550999999046326]"
            ]
          },
          "metadata": {},
          "execution_count": 54
        }
      ],
      "source": [
        "model.evaluate(x_test, y_test, batch_size=1, callbacks=[history])"
      ]
    },
    {
      "cell_type": "code",
      "execution_count": null,
      "metadata": {
        "colab": {
          "base_uri": "https://localhost:8080/",
          "height": 282
        },
        "id": "lANTMJhLEKPo",
        "outputId": "dd57e370-7cc1-4c59-def3-a79036eb0cd5"
      },
      "outputs": [
        {
          "output_type": "execute_result",
          "data": {
            "text/plain": [
              "<matplotlib.legend.Legend at 0x7f397f0160a0>"
            ]
          },
          "metadata": {},
          "execution_count": 55
        },
        {
          "output_type": "display_data",
          "data": {
            "text/plain": [
              "<Figure size 432x288 with 1 Axes>"
            ],
            "image/png": "[encoded data removed]"
          },
          "metadata": {
            "needs_background": "light"
          }
        }
      ],
      "source": [
        "# Plot loss per iteration\n",
        "loss=history.history['loss'][::500]\n",
        "test_loss=history.test_hist['loss'][::100]\n",
        "avg_val_loss=np.tile(history.history['val_loss_avg'],100)\n",
        "\n",
        "plt.plot(loss,label='training loss',color='blue' )\n",
        "plt.plot(test_loss, label='test loss', color='green')\n",
        "plt.plot(avg_val_loss, label='avg validation loss', color='red')\n",
        "plt.plot()\n",
        "plt.legend()\n"
      ]
    },
    {
      "cell_type": "code",
      "execution_count": null,
      "metadata": {
        "colab": {
          "base_uri": "https://localhost:8080/",
          "height": 282
        },
        "id": "E-R9JdPDEVWR",
        "outputId": "6c5e116a-d01c-41d9-e482-7f738f819a31"
      },
      "outputs": [
        {
          "output_type": "execute_result",
          "data": {
            "text/plain": [
              "<matplotlib.legend.Legend at 0x7f398dc94610>"
            ]
          },
          "metadata": {},
          "execution_count": 56
        },
        {
          "output_type": "display_data",
          "data": {
            "text/plain": [
              "<Figure size 432x288 with 1 Axes>"
            ],
            "image/png": "[encoded data removed]"
          },
          "metadata": {
            "needs_background": "light"
          }
        }
      ],
      "source": [
        "# Plot accuracy per iteration\n",
        "acc=history.history['accuracy'][::500]\n",
        "avg_val_acc=np.tile(history.history['val_accuracy_avg'],100)\n",
        "test_acc=history.test_hist['accuracy'][::100]\n",
        "\n",
        "plt.plot(acc, label='training accuracy', color='blue')\n",
        "plt.plot(test_acc, label='test accuracy', color='green')\n",
        "plt.plot(avg_val_acc, label='avg validation accuracy', color='red')\n",
        "plt.legend()"
      ]
    },
    {
      "cell_type": "code",
      "source": [
        "#Execute tensorboard\n",
        "#%tensorboard --logdir MNIST/logs/fit"
      ],
      "metadata": {
        "id": "Im1HRa85VJUz"
      },
      "execution_count": null,
      "outputs": []
    },
    {
      "cell_type": "code",
      "execution_count": null,
      "metadata": {
        "colab": {
          "base_uri": "https://localhost:8080/",
          "height": 519
        },
        "id": "Nh4SjDKrEdS5",
        "outputId": "f37df219-f598-4152-ac8a-2b75b097edcb"
      },
      "outputs": [
        {
          "output_type": "stream",
          "name": "stdout",
          "text": [
            "313/313 [==============================] - 2s 7ms/step\n",
            "Confusion matrix, without normalization\n",
            "[[ 963    1    1    0    0    0    9    2    3    1]\n",
            " [   0 1118    6    2    1    0    2    0    6    0]\n",
            " [   9    5  964   19    5    0    3   11   15    1]\n",
            " [   1    0    7  978    1    4    0    7   10    2]\n",
            " [   0    1    3    0  958    0    6    1    2   11]\n",
            " [   5    0    1   14    2  849    8    1    6    6]\n",
            " [   9    1    0    0    4    6  935    0    3    0]\n",
            " [   6    5   11    5    7    0    0  979    3   12]\n",
            " [  10    1    5   33    6   13    7    6  886    7]\n",
            " [   9    7    1   14   28   10    0   12    7  921]]\n"
          ]
        },
        {
          "output_type": "display_data",
          "data": {
            "text/plain": [
              "<Figure size 432x288 with 2 Axes>"
            ],
            "image/png": "[encoded data removed]"
          },
          "metadata": {
            "needs_background": "light"
          }
        }
      ],
      "source": [
        "# Plot confusion matrix\n",
        "\n",
        "#Ci dice per un label quante predizioni ha ricevuto quel label\n",
        "#sulla diagonale abbiamo i valori del targhet = predizione \n",
        "#avremo anche valori non sulla diagonale che avvengono quando si sbaglia\n",
        "\n",
        "#Dai risultati si vede che spesso ha sbagliato confondendo 9 con 4, 7 con 1 e 2\n",
        "from sklearn.metrics import confusion_matrix\n",
        "import numpy as np\n",
        "import itertools\n",
        "\n",
        "def plot_confusion_matrix(cm, classes,\n",
        "                          normalize=False,\n",
        "                          title='Confusion matrix',\n",
        "                          cmap=plt.cm.Blues):\n",
        "  \"\"\"\n",
        "  This function prints and plots the confusion matrix.\n",
        "  Normalization can be applied by setting `normalize=True`.\n",
        "  \"\"\"\n",
        "  if normalize:\n",
        "      cm = cm.astype('float') / cm.sum(axis=1)[:, np.newaxis]\n",
        "      print(\"Normalized confusion matrix\")\n",
        "  else:\n",
        "      print('Confusion matrix, without normalization')\n",
        "\n",
        "  print(cm)\n",
        "\n",
        "  plt.imshow(cm, interpolation='nearest', cmap=cmap)\n",
        "  plt.title(title)\n",
        "  plt.colorbar()\n",
        "  tick_marks = np.arange(len(classes))\n",
        "  plt.xticks(tick_marks, classes, rotation=45)\n",
        "  plt.yticks(tick_marks, classes)\n",
        "\n",
        "  fmt = '.2f' if normalize else 'd'\n",
        "  thresh = cm.max() / 2.\n",
        "  for i, j in itertools.product(range(cm.shape[0]), range(cm.shape[1])):\n",
        "      plt.text(j, i, format(cm[i, j], fmt),\n",
        "               horizontalalignment=\"center\",\n",
        "               color=\"white\" if cm[i, j] > thresh else \"black\")\n",
        "\n",
        "  plt.tight_layout()\n",
        "  plt.ylabel('True label')\n",
        "  plt.xlabel('Predicted label')\n",
        "  plt.show()\n",
        "\n",
        "\n",
        "p_test = model.predict(x_test).argmax(axis=1)\n",
        "cm = confusion_matrix(y_test, p_test)\n",
        "plot_confusion_matrix(cm, list(range(10)))"
      ]
    },
    {
      "cell_type": "code",
      "execution_count": null,
      "metadata": {
        "colab": {
          "base_uri": "https://localhost:8080/",
          "height": 281
        },
        "id": "gDAh2tUFEmsT",
        "outputId": "5ddb60c9-f2c1-4393-c7ef-82430be13394"
      },
      "outputs": [
        {
          "output_type": "display_data",
          "data": {
            "text/plain": [
              "<Figure size 432x288 with 1 Axes>"
            ],
            "image/png": "[encoded data removed]"
          },
          "metadata": {
            "needs_background": "light"
          }
        }
      ],
      "source": [
        "# Show some misclassified examples\n",
        "\n",
        "#We can do this using the np.where function, simply returns the index value with\n",
        "#an input array is true.\n",
        "#So we can pass in the boolean array p_test not equal to y_test.\n",
        "#Note that the where function returns two things but we only care about the first thing which is the actual indices.\n",
        "\n",
        "misclassified_idx = np.where(p_test != y_test)[0]\n",
        "i = np.random.choice(misclassified_idx)\n",
        "\n",
        "#cmap = gray altrimenti la interpreta diversamente \n",
        "plt.imshow(x_test[i][:,:,0], cmap='gray')\n",
        "plt.title(\"True label: %s Predicted: %s\" % (y_test[i], p_test[i]));"
      ]
    }
  ],
  "metadata": {
    "accelerator": "GPU",
    "colab": {
      "provenance": []
    },
    "gpuClass": "standard",
    "kernelspec": {
      "display_name": "Python 3",
      "name": "python3"
    },
    "language_info": {
      "name": "python"
    }
  },
  "nbformat": 4,
  "nbformat_minor": 0
}