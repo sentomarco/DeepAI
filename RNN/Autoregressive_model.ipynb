{
  "nbformat": 4,
  "nbformat_minor": 0,
  "metadata": {
    "colab": {
      "provenance": []
    },
    "kernelspec": {
      "name": "python3",
      "display_name": "Python 3"
    },
    "language_info": {
      "name": "python"
    }
  },
  "cells": [
    {
      "cell_type": "code",
      "execution_count": null,
      "metadata": {
        "colab": {
          "base_uri": "https://localhost:8080/",
          "height": 282
        },
        "id": "p0G-tFvPtoxd",
        "outputId": "4019bcc4-372e-4eb0-cba9-4889d744f704"
      },
      "outputs": [
        {
          "output_type": "stream",
          "name": "stdout",
          "text": [
            "2.9.2\n"
          ]
        },
        {
          "output_type": "display_data",
          "data": {
            "text/plain": [
              "<Figure size 432x288 with 1 Axes>"
            ],
            "image/png": "[encoded data removed]"
          },
          "metadata": {
            "needs_background": "light"
          }
        }
      ],
      "source": [
        "import tensorflow as tf\n",
        "from tensorflow.keras.layers import Input, Dense\n",
        "from tensorflow.keras.models import Model\n",
        "from tensorflow.keras.optimizers import SGD, Adam\n",
        "\n",
        "import numpy as np\n",
        "import pandas as pd\n",
        "import matplotlib.pyplot as plt\n",
        "\n",
        "\n",
        "print(tf.__version__)\n",
        "\n",
        "\n",
        "# make the original data (synthetic) is a time series\n",
        "series = np.sin(0.1*np.arange(200)) + np.random.randn(200)*0.1\n",
        "\n",
        "# plot it\n",
        "plt.plot(series)\n",
        "plt.show()\n"
      ]
    },
    {
      "cell_type": "code",
      "source": [
        "### build the dataset\n",
        "# let's see if we can use T past values to predict the next value\n",
        "T = 10\n",
        "X = []\n",
        "Y = []\n",
        "for t in range(len(series) - T):\n",
        "  x = series[t:t+T]\n",
        "  #print(x)\n",
        "  X.append(x)\n",
        "  #Creaiamo blocchi di T = 10 campioni sui quali andrà predetto l'11esimo capione\n",
        "  #Infatti poi y è l'11esimo campione\n",
        "  y = series[t+T]\n",
        "  #print(y)\n",
        "  Y.append(y)\n",
        "\n",
        "X = np.array(X).reshape(-1, T)\n",
        "Y = np.array(Y)\n",
        "N = len(X)\n",
        "print(\"X.shape\", X.shape, \"Y.shape\", Y.shape)\n",
        "\n",
        "### try autoregressive linear model\n",
        "i = Input(shape=(T,))\n",
        "x = Dense(1)(i) # 1 output e no activation function (così si fa per le regression)\n",
        "model = Model(i, x)\n",
        "model.compile( loss='mse',optimizer=Adam(lr=0.1))\n",
        "\n",
        "# train the RNN\n",
        "r = model.fit( X[:-N//2], Y[:-N//2], epochs=80, validation_data=(X[-N//2:], Y[-N//2:]))\n",
        "\n",
        "#NB I moedelli per il forecasting devono prevedere qualcosa e per allenarli si splitta il dataset a metà,\n",
        "#prima metà utilizzata per training e seconda metà per testing "
      ],
      "metadata": {
        "colab": {
          "base_uri": "https://localhost:8080/"
        },
        "id": "tvFXuHk9vTju",
        "outputId": "1f02b108-dd64-46f1-8b1a-619a5a3cd7c5"
      },
      "execution_count": null,
      "outputs": [
        {
          "output_type": "stream",
          "name": "stdout",
          "text": [
            "X.shape (190, 10) Y.shape (190,)\n",
            "Epoch 1/80\n"
          ]
        },
        {
          "output_type": "stream",
          "name": "stderr",
          "text": [
            "/usr/local/lib/python3.8/dist-packages/keras/optimizers/optimizer_v2/adam.py:110: UserWarning: The `lr` argument is deprecated, use `learning_rate` instead.\n",
            "  super(Adam, self).__init__(name, **kwargs)\n"
          ]
        },
        {
          "output_type": "stream",
          "name": "stdout",
          "text": [
            "3/3 [==============================] - 0s 58ms/step - loss: 0.8540 - val_loss: 0.4035\n",
            "Epoch 2/80\n",
            "3/3 [==============================] - 0s 14ms/step - loss: 0.5424 - val_loss: 0.3301\n",
            "Epoch 3/80\n",
            "3/3 [==============================] - 0s 13ms/step - loss: 0.1879 - val_loss: 0.1324\n",
            "Epoch 4/80\n",
            "3/3 [==============================] - 0s 12ms/step - loss: 0.1903 - val_loss: 0.1518\n",
            "Epoch 5/80\n",
            "3/3 [==============================] - 0s 24ms/step - loss: 0.1401 - val_loss: 0.0368\n",
            "Epoch 6/80\n",
            "3/3 [==============================] - 0s 22ms/step - loss: 0.0526 - val_loss: 0.0849\n",
            "Epoch 7/80\n",
            "3/3 [==============================] - 0s 12ms/step - loss: 0.1016 - val_loss: 0.0461\n",
            "Epoch 8/80\n",
            "3/3 [==============================] - 0s 13ms/step - loss: 0.0601 - val_loss: 0.0678\n",
            "Epoch 9/80\n",
            "3/3 [==============================] - 0s 14ms/step - loss: 0.0745 - val_loss: 0.0830\n",
            "Epoch 10/80\n",
            "3/3 [==============================] - 0s 12ms/step - loss: 0.0625 - val_loss: 0.0344\n",
            "Epoch 11/80\n",
            "3/3 [==============================] - 0s 16ms/step - loss: 0.0493 - val_loss: 0.0399\n",
            "Epoch 12/80\n",
            "3/3 [==============================] - 0s 13ms/step - loss: 0.0477 - val_loss: 0.0250\n",
            "Epoch 13/80\n",
            "3/3 [==============================] - 0s 12ms/step - loss: 0.0377 - val_loss: 0.0314\n",
            "Epoch 14/80\n",
            "3/3 [==============================] - 0s 15ms/step - loss: 0.0401 - val_loss: 0.0249\n",
            "Epoch 15/80\n",
            "3/3 [==============================] - 0s 13ms/step - loss: 0.0338 - val_loss: 0.0286\n",
            "Epoch 16/80\n",
            "3/3 [==============================] - 0s 13ms/step - loss: 0.0345 - val_loss: 0.0250\n",
            "Epoch 17/80\n",
            "3/3 [==============================] - 0s 13ms/step - loss: 0.0307 - val_loss: 0.0303\n",
            "Epoch 18/80\n",
            "3/3 [==============================] - 0s 22ms/step - loss: 0.0323 - val_loss: 0.0262\n",
            "Epoch 19/80\n",
            "3/3 [==============================] - 0s 25ms/step - loss: 0.0285 - val_loss: 0.0236\n",
            "Epoch 20/80\n",
            "3/3 [==============================] - 0s 17ms/step - loss: 0.0281 - val_loss: 0.0229\n",
            "Epoch 21/80\n",
            "3/3 [==============================] - 0s 14ms/step - loss: 0.0269 - val_loss: 0.0221\n",
            "Epoch 22/80\n",
            "3/3 [==============================] - 0s 13ms/step - loss: 0.0271 - val_loss: 0.0217\n",
            "Epoch 23/80\n",
            "3/3 [==============================] - 0s 17ms/step - loss: 0.0266 - val_loss: 0.0208\n",
            "Epoch 24/80\n",
            "3/3 [==============================] - 0s 22ms/step - loss: 0.0256 - val_loss: 0.0207\n",
            "Epoch 25/80\n",
            "3/3 [==============================] - 0s 21ms/step - loss: 0.0251 - val_loss: 0.0211\n",
            "Epoch 26/80\n",
            "3/3 [==============================] - 0s 13ms/step - loss: 0.0251 - val_loss: 0.0202\n",
            "Epoch 27/80\n",
            "3/3 [==============================] - 0s 12ms/step - loss: 0.0243 - val_loss: 0.0200\n",
            "Epoch 28/80\n",
            "3/3 [==============================] - 0s 13ms/step - loss: 0.0241 - val_loss: 0.0198\n",
            "Epoch 29/80\n",
            "3/3 [==============================] - 0s 12ms/step - loss: 0.0239 - val_loss: 0.0197\n",
            "Epoch 30/80\n",
            "3/3 [==============================] - 0s 14ms/step - loss: 0.0233 - val_loss: 0.0193\n",
            "Epoch 31/80\n",
            "3/3 [==============================] - 0s 14ms/step - loss: 0.0228 - val_loss: 0.0191\n",
            "Epoch 32/80\n",
            "3/3 [==============================] - 0s 14ms/step - loss: 0.0225 - val_loss: 0.0193\n",
            "Epoch 33/80\n",
            "3/3 [==============================] - 0s 13ms/step - loss: 0.0223 - val_loss: 0.0196\n",
            "Epoch 34/80\n",
            "3/3 [==============================] - 0s 22ms/step - loss: 0.0221 - val_loss: 0.0185\n",
            "Epoch 35/80\n",
            "3/3 [==============================] - 0s 14ms/step - loss: 0.0225 - val_loss: 0.0183\n",
            "Epoch 36/80\n",
            "3/3 [==============================] - 0s 24ms/step - loss: 0.0211 - val_loss: 0.0189\n",
            "Epoch 37/80\n",
            "3/3 [==============================] - 0s 14ms/step - loss: 0.0221 - val_loss: 0.0182\n",
            "Epoch 38/80\n",
            "3/3 [==============================] - 0s 14ms/step - loss: 0.0219 - val_loss: 0.0188\n",
            "Epoch 39/80\n",
            "3/3 [==============================] - 0s 13ms/step - loss: 0.0221 - val_loss: 0.0181\n",
            "Epoch 40/80\n",
            "3/3 [==============================] - 0s 13ms/step - loss: 0.0208 - val_loss: 0.0176\n",
            "Epoch 41/80\n",
            "3/3 [==============================] - 0s 13ms/step - loss: 0.0203 - val_loss: 0.0175\n",
            "Epoch 42/80\n",
            "3/3 [==============================] - 0s 13ms/step - loss: 0.0200 - val_loss: 0.0175\n",
            "Epoch 43/80\n",
            "3/3 [==============================] - 0s 13ms/step - loss: 0.0201 - val_loss: 0.0174\n",
            "Epoch 44/80\n",
            "3/3 [==============================] - 0s 17ms/step - loss: 0.0199 - val_loss: 0.0171\n",
            "Epoch 45/80\n",
            "3/3 [==============================] - 0s 22ms/step - loss: 0.0194 - val_loss: 0.0169\n",
            "Epoch 46/80\n",
            "3/3 [==============================] - 0s 13ms/step - loss: 0.0201 - val_loss: 0.0178\n",
            "Epoch 47/80\n",
            "3/3 [==============================] - 0s 13ms/step - loss: 0.0189 - val_loss: 0.0169\n",
            "Epoch 48/80\n",
            "3/3 [==============================] - 0s 14ms/step - loss: 0.0198 - val_loss: 0.0165\n",
            "Epoch 49/80\n",
            "3/3 [==============================] - 0s 13ms/step - loss: 0.0187 - val_loss: 0.0168\n",
            "Epoch 50/80\n",
            "3/3 [==============================] - 0s 13ms/step - loss: 0.0191 - val_loss: 0.0163\n",
            "Epoch 51/80\n",
            "3/3 [==============================] - 0s 13ms/step - loss: 0.0185 - val_loss: 0.0167\n",
            "Epoch 52/80\n",
            "3/3 [==============================] - 0s 15ms/step - loss: 0.0187 - val_loss: 0.0163\n",
            "Epoch 53/80\n",
            "3/3 [==============================] - 0s 16ms/step - loss: 0.0191 - val_loss: 0.0170\n",
            "Epoch 54/80\n",
            "3/3 [==============================] - 0s 12ms/step - loss: 0.0179 - val_loss: 0.0163\n",
            "Epoch 55/80\n",
            "3/3 [==============================] - 0s 14ms/step - loss: 0.0188 - val_loss: 0.0160\n",
            "Epoch 56/80\n",
            "3/3 [==============================] - 0s 13ms/step - loss: 0.0179 - val_loss: 0.0161\n",
            "Epoch 57/80\n",
            "3/3 [==============================] - 0s 15ms/step - loss: 0.0185 - val_loss: 0.0158\n",
            "Epoch 58/80\n",
            "3/3 [==============================] - 0s 13ms/step - loss: 0.0182 - val_loss: 0.0160\n",
            "Epoch 59/80\n",
            "3/3 [==============================] - 0s 13ms/step - loss: 0.0177 - val_loss: 0.0158\n",
            "Epoch 60/80\n",
            "3/3 [==============================] - 0s 14ms/step - loss: 0.0182 - val_loss: 0.0159\n",
            "Epoch 61/80\n",
            "3/3 [==============================] - 0s 15ms/step - loss: 0.0177 - val_loss: 0.0160\n",
            "Epoch 62/80\n",
            "3/3 [==============================] - 0s 13ms/step - loss: 0.0176 - val_loss: 0.0157\n",
            "Epoch 63/80\n",
            "3/3 [==============================] - 0s 13ms/step - loss: 0.0175 - val_loss: 0.0158\n",
            "Epoch 64/80\n",
            "3/3 [==============================] - 0s 15ms/step - loss: 0.0175 - val_loss: 0.0157\n",
            "Epoch 65/80\n",
            "3/3 [==============================] - 0s 13ms/step - loss: 0.0172 - val_loss: 0.0156\n",
            "Epoch 66/80\n",
            "3/3 [==============================] - 0s 13ms/step - loss: 0.0175 - val_loss: 0.0157\n",
            "Epoch 67/80\n",
            "3/3 [==============================] - 0s 13ms/step - loss: 0.0182 - val_loss: 0.0157\n",
            "Epoch 68/80\n",
            "3/3 [==============================] - 0s 16ms/step - loss: 0.0175 - val_loss: 0.0158\n",
            "Epoch 69/80\n",
            "3/3 [==============================] - 0s 15ms/step - loss: 0.0173 - val_loss: 0.0155\n",
            "Epoch 70/80\n",
            "3/3 [==============================] - 0s 25ms/step - loss: 0.0172 - val_loss: 0.0155\n",
            "Epoch 71/80\n",
            "3/3 [==============================] - 0s 15ms/step - loss: 0.0173 - val_loss: 0.0154\n",
            "Epoch 72/80\n",
            "3/3 [==============================] - 0s 13ms/step - loss: 0.0170 - val_loss: 0.0158\n",
            "Epoch 73/80\n",
            "3/3 [==============================] - 0s 15ms/step - loss: 0.0176 - val_loss: 0.0156\n",
            "Epoch 74/80\n",
            "3/3 [==============================] - 0s 12ms/step - loss: 0.0170 - val_loss: 0.0156\n",
            "Epoch 75/80\n",
            "3/3 [==============================] - 0s 16ms/step - loss: 0.0174 - val_loss: 0.0153\n",
            "Epoch 76/80\n",
            "3/3 [==============================] - 0s 13ms/step - loss: 0.0180 - val_loss: 0.0155\n",
            "Epoch 77/80\n",
            "3/3 [==============================] - 0s 13ms/step - loss: 0.0168 - val_loss: 0.0158\n",
            "Epoch 78/80\n",
            "3/3 [==============================] - 0s 13ms/step - loss: 0.0180 - val_loss: 0.0162\n",
            "Epoch 79/80\n",
            "3/3 [==============================] - 0s 13ms/step - loss: 0.0195 - val_loss: 0.0158\n",
            "Epoch 80/80\n",
            "3/3 [==============================] - 0s 13ms/step - loss: 0.0188 - val_loss: 0.0166\n"
          ]
        }
      ]
    },
    {
      "cell_type": "code",
      "source": [
        "# Plot loss per iteration\n",
        "import matplotlib.pyplot as plt\n",
        "plt.plot(r.history['loss'], label='loss')\n",
        "plt.plot(r.history['val_loss'], label='val_loss')\n",
        "plt.legend()\n"
      ],
      "metadata": {
        "colab": {
          "base_uri": "https://localhost:8080/",
          "height": 282
        },
        "id": "pRnCtvJkvZL3",
        "outputId": "6cc238c3-b1db-41d1-e481-4b5658f2f13f"
      },
      "execution_count": null,
      "outputs": [
        {
          "output_type": "execute_result",
          "data": {
            "text/plain": [
              "<matplotlib.legend.Legend at 0x7f0307ad2a90>"
            ]
          },
          "metadata": {},
          "execution_count": 11
        },
        {
          "output_type": "display_data",
          "data": {
            "text/plain": [
              "<Figure size 432x288 with 1 Axes>"
            ],
            "image/png": "[encoded data removed]"
          },
          "metadata": {
            "needs_background": "light"
          }
        }
      ]
    },
    {
      "cell_type": "code",
      "source": [
        "\n",
        "# \"Wrong\" forecast using true targets\n",
        "\n",
        "validation_target = Y[-N//2:] #validazione assegnata come seconda metà di Y\n",
        "validation_predictions = []\n",
        "\n",
        "# index of first validation input\n",
        "i = -N//2\n",
        "\n",
        "while len(validation_predictions) < len(validation_target):\n",
        "  #qua si prende un campione di x alla volta perchè ogni x è un vettore di 10 campioni \n",
        "  p = model.predict(X[i].reshape(1, -1))[0,0] #returns an 1x1 array -> scalar\n",
        "  i += 1\n",
        "  \n",
        "  # update the predictions list\n",
        "  validation_predictions.append(p)"
      ],
      "metadata": {
        "colab": {
          "base_uri": "https://localhost:8080/"
        },
        "id": "DrOgKZFS0S9F",
        "outputId": "57c67702-862f-4e19-83bc-d900aec9ae06"
      },
      "execution_count": null,
      "outputs": [
        {
          "output_type": "stream",
          "name": "stdout",
          "text": [
            "1/1 [==============================] - 0s 36ms/step\n",
            "1/1 [==============================] - 0s 16ms/step\n",
            "1/1 [==============================] - 0s 15ms/step\n",
            "1/1 [==============================] - 0s 17ms/step\n",
            "1/1 [==============================] - 0s 16ms/step\n",
            "1/1 [==============================] - 0s 17ms/step\n",
            "1/1 [==============================] - 0s 16ms/step\n",
            "1/1 [==============================] - 0s 15ms/step\n",
            "1/1 [==============================] - 0s 17ms/step\n",
            "1/1 [==============================] - 0s 17ms/step\n",
            "1/1 [==============================] - 0s 15ms/step\n",
            "1/1 [==============================] - 0s 16ms/step\n",
            "1/1 [==============================] - 0s 16ms/step\n",
            "1/1 [==============================] - 0s 15ms/step\n",
            "1/1 [==============================] - 0s 15ms/step\n",
            "1/1 [==============================] - 0s 15ms/step\n",
            "1/1 [==============================] - 0s 17ms/step\n",
            "1/1 [==============================] - 0s 15ms/step\n",
            "1/1 [==============================] - 0s 18ms/step\n",
            "1/1 [==============================] - 0s 16ms/step\n",
            "1/1 [==============================] - 0s 18ms/step\n",
            "1/1 [==============================] - 0s 18ms/step\n",
            "1/1 [==============================] - 0s 15ms/step\n",
            "1/1 [==============================] - 0s 16ms/step\n",
            "1/1 [==============================] - 0s 17ms/step\n",
            "1/1 [==============================] - 0s 16ms/step\n",
            "1/1 [==============================] - 0s 16ms/step\n",
            "1/1 [==============================] - 0s 17ms/step\n",
            "1/1 [==============================] - 0s 20ms/step\n",
            "1/1 [==============================] - 0s 15ms/step\n",
            "1/1 [==============================] - 0s 17ms/step\n",
            "1/1 [==============================] - 0s 16ms/step\n",
            "1/1 [==============================] - 0s 15ms/step\n",
            "1/1 [==============================] - 0s 28ms/step\n",
            "1/1 [==============================] - 0s 15ms/step\n",
            "1/1 [==============================] - 0s 15ms/step\n",
            "1/1 [==============================] - 0s 16ms/step\n",
            "1/1 [==============================] - 0s 17ms/step\n",
            "1/1 [==============================] - 0s 19ms/step\n",
            "1/1 [==============================] - 0s 16ms/step\n",
            "1/1 [==============================] - 0s 16ms/step\n",
            "1/1 [==============================] - 0s 16ms/step\n",
            "1/1 [==============================] - 0s 16ms/step\n",
            "1/1 [==============================] - 0s 16ms/step\n",
            "1/1 [==============================] - 0s 15ms/step\n",
            "1/1 [==============================] - 0s 16ms/step\n",
            "1/1 [==============================] - 0s 16ms/step\n",
            "1/1 [==============================] - 0s 16ms/step\n",
            "1/1 [==============================] - 0s 16ms/step\n",
            "1/1 [==============================] - 0s 18ms/step\n",
            "1/1 [==============================] - 0s 20ms/step\n",
            "1/1 [==============================] - 0s 16ms/step\n",
            "1/1 [==============================] - 0s 29ms/step\n",
            "1/1 [==============================] - 0s 16ms/step\n",
            "1/1 [==============================] - 0s 18ms/step\n",
            "1/1 [==============================] - 0s 16ms/step\n",
            "1/1 [==============================] - 0s 16ms/step\n",
            "1/1 [==============================] - 0s 16ms/step\n",
            "1/1 [==============================] - 0s 16ms/step\n",
            "1/1 [==============================] - 0s 15ms/step\n",
            "1/1 [==============================] - 0s 20ms/step\n",
            "1/1 [==============================] - 0s 16ms/step\n",
            "1/1 [==============================] - 0s 20ms/step\n",
            "1/1 [==============================] - 0s 17ms/step\n",
            "1/1 [==============================] - 0s 16ms/step\n",
            "1/1 [==============================] - 0s 19ms/step\n",
            "1/1 [==============================] - 0s 16ms/step\n",
            "1/1 [==============================] - 0s 16ms/step\n",
            "1/1 [==============================] - 0s 15ms/step\n",
            "1/1 [==============================] - 0s 15ms/step\n",
            "1/1 [==============================] - 0s 18ms/step\n",
            "1/1 [==============================] - 0s 123ms/step\n",
            "1/1 [==============================] - 0s 62ms/step\n",
            "1/1 [==============================] - 0s 15ms/step\n",
            "1/1 [==============================] - 0s 16ms/step\n",
            "1/1 [==============================] - 0s 15ms/step\n",
            "1/1 [==============================] - 0s 17ms/step\n",
            "1/1 [==============================] - 0s 16ms/step\n",
            "1/1 [==============================] - 0s 16ms/step\n",
            "1/1 [==============================] - 0s 15ms/step\n",
            "1/1 [==============================] - 0s 16ms/step\n",
            "1/1 [==============================] - 0s 16ms/step\n",
            "1/1 [==============================] - 0s 15ms/step\n",
            "1/1 [==============================] - 0s 16ms/step\n",
            "1/1 [==============================] - 0s 15ms/step\n",
            "1/1 [==============================] - 0s 20ms/step\n",
            "1/1 [==============================] - 0s 16ms/step\n",
            "1/1 [==============================] - 0s 15ms/step\n",
            "1/1 [==============================] - 0s 19ms/step\n",
            "1/1 [==============================] - 0s 22ms/step\n",
            "1/1 [==============================] - 0s 16ms/step\n",
            "1/1 [==============================] - 0s 17ms/step\n",
            "1/1 [==============================] - 0s 15ms/step\n",
            "1/1 [==============================] - 0s 16ms/step\n",
            "1/1 [==============================] - 0s 16ms/step\n"
          ]
        }
      ]
    },
    {
      "cell_type": "code",
      "source": [
        "plt.plot(validation_target, label='forecast target')\n",
        "plt.plot(validation_predictions, label='forecast prediction')\n",
        "plt.legend()\n"
      ],
      "metadata": {
        "colab": {
          "base_uri": "https://localhost:8080/",
          "height": 282
        },
        "id": "U2nl_chmvcgr",
        "outputId": "4a1c807c-241a-4a4e-a426-5d7aac355b61"
      },
      "execution_count": null,
      "outputs": [
        {
          "output_type": "execute_result",
          "data": {
            "text/plain": [
              "<matplotlib.legend.Legend at 0x7f0307947310>"
            ]
          },
          "metadata": {},
          "execution_count": 13
        },
        {
          "output_type": "display_data",
          "data": {
            "text/plain": [
              "<Figure size 432x288 with 1 Axes>"
            ],
            "image/png": "[encoded data removed]"
          },
          "metadata": {
            "needs_background": "light"
          }
        }
      ]
    },
    {
      "cell_type": "markdown",
      "source": [
        "Sembra corretto ma quanto fatto è il modo sbagliato di eseguire il forecasting\n",
        "Il problema era che utilizzavamo il vettore x per effettuare le previsioni! Ovvero usavamo i veri input per predie il futuro, non va fatto, è un one step prediction.\n",
        "\n",
        "Invece occorre prendere come primo valore del testing, l'ultimo vero valore noto, campionato, poi si fa tipo FIFO e si appendono come nuovi input le predizioni appena effettuate!\n",
        "\n",
        "Adesso vediamo come fare correttamente:"
      ],
      "metadata": {
        "id": "FAYrNlhH1Hr6"
      }
    },
    {
      "cell_type": "code",
      "source": [
        "# Forecast future values (use only self-predictions for making future predictions)\n",
        "\n",
        "validation_target = Y[-N//2:]\n",
        "validation_predictions = []\n",
        "\n",
        "# first validation input\n",
        "last_x = X[-N//2] # 1-D array of length T\n",
        "\n",
        "while len(validation_predictions) < len(validation_target):\n",
        "  p = model.predict(last_x.reshape(1, -1))[0,0] # 1x1 array -> scalar\n",
        "  \n",
        "  # update the predictions list\n",
        "  validation_predictions.append(p)\n",
        "  \n",
        "  # make the new input\n",
        "  last_x = np.roll(last_x, -1)  #effettua lo shift (tipo buffer circolare però!)\n",
        "  #roll by -1 means shift everything one spot to the left, the left most value ends up looping back around to the right. \n",
        "  #But we replace it anyway with P, l'ultima predizione.\n",
        "  last_x[-1] = p\n",
        "\n",
        "plt.plot(validation_target, label='forecast target')\n",
        "plt.plot(validation_predictions, label='forecast prediction')\n",
        "plt.legend()\n",
        "\n"
      ],
      "metadata": {
        "colab": {
          "base_uri": "https://localhost:8080/",
          "height": 1000
        },
        "id": "3bblQzSivdjC",
        "outputId": "91fe7586-e077-461c-ca4a-0ef75ca73ee0"
      },
      "execution_count": null,
      "outputs": [
        {
          "output_type": "stream",
          "name": "stdout",
          "text": [
            "1/1 [==============================] - 0s 17ms/step\n",
            "1/1 [==============================] - 0s 17ms/step\n",
            "1/1 [==============================] - 0s 15ms/step\n",
            "1/1 [==============================] - 0s 16ms/step\n",
            "1/1 [==============================] - 0s 15ms/step\n",
            "1/1 [==============================] - 0s 20ms/step\n",
            "1/1 [==============================] - 0s 20ms/step\n",
            "1/1 [==============================] - 0s 17ms/step\n",
            "1/1 [==============================] - 0s 18ms/step\n",
            "1/1 [==============================] - 0s 16ms/step\n",
            "1/1 [==============================] - 0s 16ms/step\n",
            "1/1 [==============================] - 0s 18ms/step\n",
            "1/1 [==============================] - 0s 19ms/step\n",
            "1/1 [==============================] - 0s 20ms/step\n",
            "1/1 [==============================] - 0s 16ms/step\n",
            "1/1 [==============================] - 0s 18ms/step\n",
            "1/1 [==============================] - 0s 17ms/step\n",
            "1/1 [==============================] - 0s 22ms/step\n",
            "1/1 [==============================] - 0s 15ms/step\n",
            "1/1 [==============================] - 0s 19ms/step\n",
            "1/1 [==============================] - 0s 17ms/step\n",
            "1/1 [==============================] - 0s 18ms/step\n",
            "1/1 [==============================] - 0s 21ms/step\n",
            "1/1 [==============================] - 0s 16ms/step\n",
            "1/1 [==============================] - 0s 15ms/step\n",
            "1/1 [==============================] - 0s 16ms/step\n",
            "1/1 [==============================] - 0s 16ms/step\n",
            "1/1 [==============================] - 0s 16ms/step\n",
            "1/1 [==============================] - 0s 17ms/step\n",
            "1/1 [==============================] - 0s 15ms/step\n",
            "1/1 [==============================] - 0s 18ms/step\n",
            "1/1 [==============================] - 0s 16ms/step\n",
            "1/1 [==============================] - 0s 21ms/step\n",
            "1/1 [==============================] - 0s 16ms/step\n",
            "1/1 [==============================] - 0s 16ms/step\n",
            "1/1 [==============================] - 0s 16ms/step\n",
            "1/1 [==============================] - 0s 17ms/step\n",
            "1/1 [==============================] - 0s 16ms/step\n",
            "1/1 [==============================] - 0s 17ms/step\n",
            "1/1 [==============================] - 0s 15ms/step\n",
            "1/1 [==============================] - 0s 18ms/step\n",
            "1/1 [==============================] - 0s 16ms/step\n",
            "1/1 [==============================] - 0s 16ms/step\n",
            "1/1 [==============================] - 0s 17ms/step\n",
            "1/1 [==============================] - 0s 16ms/step\n",
            "1/1 [==============================] - 0s 16ms/step\n",
            "1/1 [==============================] - 0s 19ms/step\n",
            "1/1 [==============================] - 0s 23ms/step\n",
            "1/1 [==============================] - 0s 20ms/step\n",
            "1/1 [==============================] - 0s 16ms/step\n",
            "1/1 [==============================] - 0s 22ms/step\n",
            "1/1 [==============================] - 0s 16ms/step\n",
            "1/1 [==============================] - 0s 19ms/step\n",
            "1/1 [==============================] - 0s 16ms/step\n",
            "1/1 [==============================] - 0s 16ms/step\n",
            "1/1 [==============================] - 0s 18ms/step\n",
            "1/1 [==============================] - 0s 15ms/step\n",
            "1/1 [==============================] - 0s 16ms/step\n",
            "1/1 [==============================] - 0s 16ms/step\n",
            "1/1 [==============================] - 0s 21ms/step\n",
            "1/1 [==============================] - 0s 18ms/step\n",
            "1/1 [==============================] - 0s 18ms/step\n",
            "1/1 [==============================] - 0s 16ms/step\n",
            "1/1 [==============================] - 0s 16ms/step\n",
            "1/1 [==============================] - 0s 16ms/step\n",
            "1/1 [==============================] - 0s 16ms/step\n",
            "1/1 [==============================] - 0s 21ms/step\n",
            "1/1 [==============================] - 0s 18ms/step\n",
            "1/1 [==============================] - 0s 17ms/step\n",
            "1/1 [==============================] - 0s 18ms/step\n",
            "1/1 [==============================] - 0s 16ms/step\n",
            "1/1 [==============================] - 0s 15ms/step\n",
            "1/1 [==============================] - 0s 17ms/step\n",
            "1/1 [==============================] - 0s 15ms/step\n",
            "1/1 [==============================] - 0s 17ms/step\n",
            "1/1 [==============================] - 0s 16ms/step\n",
            "1/1 [==============================] - 0s 17ms/step\n",
            "1/1 [==============================] - 0s 18ms/step\n",
            "1/1 [==============================] - 0s 18ms/step\n",
            "1/1 [==============================] - 0s 15ms/step\n",
            "1/1 [==============================] - 0s 17ms/step\n",
            "1/1 [==============================] - 0s 16ms/step\n",
            "1/1 [==============================] - 0s 17ms/step\n",
            "1/1 [==============================] - 0s 16ms/step\n",
            "1/1 [==============================] - 0s 15ms/step\n",
            "1/1 [==============================] - 0s 25ms/step\n",
            "1/1 [==============================] - 0s 16ms/step\n",
            "1/1 [==============================] - 0s 15ms/step\n",
            "1/1 [==============================] - 0s 16ms/step\n",
            "1/1 [==============================] - 0s 16ms/step\n",
            "1/1 [==============================] - 0s 17ms/step\n",
            "1/1 [==============================] - 0s 15ms/step\n",
            "1/1 [==============================] - 0s 18ms/step\n",
            "1/1 [==============================] - 0s 16ms/step\n",
            "1/1 [==============================] - 0s 16ms/step\n"
          ]
        },
        {
          "output_type": "execute_result",
          "data": {
            "text/plain": [
              "<matplotlib.legend.Legend at 0x7f03077acb50>"
            ]
          },
          "metadata": {},
          "execution_count": 14
        },
        {
          "output_type": "display_data",
          "data": {
            "text/plain": [
              "<Figure size 432x288 with 1 Axes>"
            ],
            "image/png": "[encoded data removed]"
          },
          "metadata": {
            "needs_background": "light"
          }
        }
      ]
    },
    {
      "cell_type": "markdown",
      "source": [
        "Fin qua tutto ok se il segnale in ingresso non ha rumore!\n",
        "Con il rumore già cambia ma il risultato è cmq smooth e sembra periodico, good!"
      ],
      "metadata": {
        "id": "Yf5Zhca24A4O"
      }
    }
  ]
}